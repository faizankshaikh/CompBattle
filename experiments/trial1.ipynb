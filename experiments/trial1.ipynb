{
 "cells": [
  {
   "cell_type": "code",
   "execution_count": 15,
   "metadata": {},
   "outputs": [],
   "source": [
    "import sys\n",
    "sys.path.append(\"..\")\n",
    "\n",
    "import numpy as np\n",
    "import matplotlib.pyplot as plt\n",
    "\n",
    "from comp.envs.comp_v0 import Comp\n",
    "# from pettingzoo.test import parallel_api_test"
   ]
  },
  {
   "cell_type": "code",
   "execution_count": 2,
   "metadata": {},
   "outputs": [],
   "source": [
    "\n",
    "# parallel_api_test(Comp())"
   ]
  },
  {
   "cell_type": "code",
   "execution_count": 3,
   "metadata": {},
   "outputs": [],
   "source": [
    "env = Comp()"
   ]
  },
  {
   "cell_type": "code",
   "execution_count": null,
   "metadata": {},
   "outputs": [],
   "source": []
  },
  {
   "cell_type": "code",
   "execution_count": 4,
   "metadata": {},
   "outputs": [
    {
     "data": {
      "text/plain": [
       "array([-354, -318])"
      ]
     },
     "execution_count": 4,
     "metadata": {},
     "output_type": "execute_result"
    }
   ],
   "source": [
    "# both always cooperate\n",
    "episodes = 1000\n",
    "\n",
    "episode_rews = []\n",
    "\n",
    "for _ in range(episodes):\n",
    "\n",
    "    obs = env.reset()\n",
    "    while env.agents:\n",
    "        acts = {\n",
    "            \"player1\": 1,\n",
    "            \"player2\": 1\n",
    "        }\n",
    "\n",
    "        obs, rews, terms, truncs, infos = env.step(acts)\n",
    "        # print(obs, rews)\n",
    "\n",
    "    episode_rews.append([rews['player1'], rews['player2']])\n",
    "\n",
    "np.sum(np.array(episode_rews), axis=0)"
   ]
  },
  {
   "cell_type": "code",
   "execution_count": 5,
   "metadata": {},
   "outputs": [
    {
     "data": {
      "text/plain": [
       "array([-1000, -1000])"
      ]
     },
     "execution_count": 5,
     "metadata": {},
     "output_type": "execute_result"
    }
   ],
   "source": [
    "# both always defect\n",
    "episodes = 1000\n",
    "\n",
    "episode_rews = []\n",
    "\n",
    "for _ in range(episodes):\n",
    "\n",
    "    obs = env.reset()\n",
    "    while env.agents:\n",
    "        acts = {\n",
    "            \"player1\": 0,\n",
    "            \"player2\": 0\n",
    "        }\n",
    "\n",
    "        obs, rews, terms, truncs, infos = env.step(acts)\n",
    "        # print(obs, rews)\n",
    "\n",
    "    episode_rews.append([rews['player1'], rews['player2']])\n",
    "\n",
    "np.sum(np.array(episode_rews), axis=0)"
   ]
  },
  {
   "cell_type": "code",
   "execution_count": 6,
   "metadata": {},
   "outputs": [
    {
     "data": {
      "text/plain": [
       "array([-250, -871])"
      ]
     },
     "execution_count": 6,
     "metadata": {},
     "output_type": "execute_result"
    }
   ],
   "source": [
    "# player1 defects, player2 cooperates\n",
    "episodes = 1000\n",
    "\n",
    "episode_rews = []\n",
    "\n",
    "for _ in range(episodes):\n",
    "\n",
    "    obs = env.reset()\n",
    "    while env.agents:\n",
    "        acts = {\n",
    "            \"player1\": 0,\n",
    "            \"player2\": 1\n",
    "        }\n",
    "\n",
    "        obs, rews, terms, truncs, infos = env.step(acts)\n",
    "        # print(obs, rews)\n",
    "\n",
    "    episode_rews.append([rews['player1'], rews['player2']])\n",
    "\n",
    "np.sum(np.array(episode_rews), axis=0)"
   ]
  },
  {
   "cell_type": "code",
   "execution_count": 39,
   "metadata": {},
   "outputs": [
    {
     "data": {
      "text/plain": [
       "array([-867, -279])"
      ]
     },
     "execution_count": 39,
     "metadata": {},
     "output_type": "execute_result"
    }
   ],
   "source": [
    "# player1 cooperates, player2 defects\n",
    "episodes = 1000\n",
    "\n",
    "episode_rews = []\n",
    "\n",
    "for _ in range(episodes):\n",
    "\n",
    "    obs = env.reset()\n",
    "    while env.agents:\n",
    "        acts = {\n",
    "            \"player1\": 1,\n",
    "            \"player2\": 0\n",
    "        }\n",
    "\n",
    "        obs, rews, terms, truncs, infos = env.step(acts)\n",
    "        # print(obs, rews)\n",
    "\n",
    "    episode_rews.append([rews['player1'], rews['player2']])\n",
    "\n",
    "np.sum(np.array(episode_rews), axis=0)"
   ]
  },
  {
   "cell_type": "code",
   "execution_count": 40,
   "metadata": {},
   "outputs": [],
   "source": [
    "arr = np.array(episode_rews)"
   ]
  },
  {
   "cell_type": "code",
   "execution_count": 44,
   "metadata": {},
   "outputs": [
    {
     "data": {
      "text/plain": [
       "[<matplotlib.lines.Line2D at 0x2b7c89cd9d0>,\n",
       " <matplotlib.lines.Line2D at 0x2b7c89cda30>]"
      ]
     },
     "execution_count": 44,
     "metadata": {},
     "output_type": "execute_result"
    },
    {
     "data": {
      "image/png": "[encoded data removed]",
      "text/plain": [
       "<Figure size 640x480 with 1 Axes>"
      ]
     },
     "metadata": {},
     "output_type": "display_data"
    }
   ],
   "source": [
    "plt.plot(arr.cumsum(axis=0))"
   ]
  },
  {
   "cell_type": "code",
   "execution_count": 38,
   "metadata": {},
   "outputs": [
    {
     "data": {
      "text/plain": [
       "(1000, 2)"
      ]
     },
     "execution_count": 38,
     "metadata": {},
     "output_type": "execute_result"
    }
   ],
   "source": [
    "arr.shape"
   ]
  },
  {
   "cell_type": "code",
   "execution_count": null,
   "metadata": {},
   "outputs": [],
   "source": []
  }
 ],
 "metadata": {
  "kernelspec": {
   "display_name": "marl",
   "language": "python",
   "name": "python3"
  },
  "language_info": {
   "codemirror_mode": {
    "name": "ipython",
    "version": 3
   },
   "file_extension": ".py",
   "mimetype": "text/x-python",
   "name": "python",
   "nbconvert_exporter": "python",
   "pygments_lexer": "ipython3",
   "version": "3.9.16"
  },
  "orig_nbformat": 4,
  "vscode": {
   "interpreter": {
    "hash": "c60f8f14158b8cc4bcc21437ba22a3da12044864f85c9353b976d7b31c7c9e33"
   }
  }
 },
 "nbformat": 4,
 "nbformat_minor": 2
}
