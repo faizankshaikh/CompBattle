{
  "cells": [
    {
      "cell_type": "markdown",
      "metadata": {
        "id": "view-in-github",
        "colab_type": "text"
      },
      "source": [
        "<a href=\"https://colab.research.google.com/github/faizankshaikh/CompBattle/blob/main/experiments/trial1.ipynb\" target=\"_parent\"><img src=\"https://colab.research.google.com/assets/colab-badge.svg\" alt=\"Open In Colab\"/></a>"
      ]
    },
    {
      "cell_type": "code",
      "source": [
        "# !pip install -q gymnasium pettingzoo tianshou\n",
        "# !git clone https://github.com/faizankshaikh/CompBattle.git\n",
        "%cd CompBattle"
      ],
      "metadata": {
        "id": "6JTR1PZYflqy",
        "outputId": "9c443465-cdb6-4849-8b3a-4c40e6031294",
        "colab": {
          "base_uri": "https://localhost:8080/"
        }
      },
      "execution_count": 1,
      "outputs": [
        {
          "output_type": "stream",
          "name": "stdout",
          "text": [
            "\u001b[2K     \u001b[90m━━━━━━━━━━━━━━━━━━━━━━━━━━━━━━━━━━━━━━\u001b[0m \u001b[32m925.5/925.5 kB\u001b[0m \u001b[31m24.6 MB/s\u001b[0m eta \u001b[36m0:00:00\u001b[0m\n",
            "\u001b[2K     \u001b[90m━━━━━━━━━━━━━━━━━━━━━━━━━━━━━━━━━━━━━━\u001b[0m \u001b[32m816.1/816.1 kB\u001b[0m \u001b[31m63.4 MB/s\u001b[0m eta \u001b[36m0:00:00\u001b[0m\n",
            "\u001b[2K     \u001b[90m━━━━━━━━━━━━━━━━━━━━━━━━━━━━━━━━━━━━━━\u001b[0m \u001b[32m162.7/162.7 kB\u001b[0m \u001b[31m22.0 MB/s\u001b[0m eta \u001b[36m0:00:00\u001b[0m\n",
            "\u001b[?25hCloning into 'CompBattle'...\n",
            "remote: Enumerating objects: 50, done.\u001b[K\n",
            "remote: Counting objects: 100% (50/50), done.\u001b[K\n",
            "remote: Compressing objects: 100% (39/39), done.\u001b[K\n",
            "remote: Total 50 (delta 13), reused 19 (delta 5), pack-reused 0\u001b[K\n",
            "Unpacking objects: 100% (50/50), 418.22 KiB | 1.51 MiB/s, done.\n",
            "/content/CompBattle\n"
          ]
        }
      ]
    },
    {
      "cell_type": "code",
      "execution_count": 2,
      "metadata": {
        "id": "9BDuhJbafaJB"
      },
      "outputs": [],
      "source": [
        "%load_ext tensorboard\n",
        "\n",
        "import os\n",
        "import torch\n",
        "import numpy as np\n",
        "import matplotlib.pyplot as plt\n",
        "\n",
        "from comp.envs.comp_v0 import Comp\n",
        "\n",
        "from torch.optim import Adam\n",
        "\n",
        "from tianshou.data import Batch\n",
        "from tianshou.utils.net.common import Net\n",
        "from tianshou.utils import TensorboardLogger\n",
        "from tianshou.trainer import offpolicy_trainer\n",
        "from tianshou.data import Collector, VectorReplayBuffer\n",
        "from tianshou.env import DummyVectorEnv, PettingZooEnv\n",
        "from tianshou.policy import BasePolicy, DQNPolicy, MultiAgentPolicyManager\n",
        "\n",
        "from pettingzoo.utils import parallel_to_aec\n",
        "\n",
        "from torch.utils.tensorboard import SummaryWriter"
      ]
    },
    {
      "cell_type": "code",
      "execution_count": 3,
      "metadata": {
        "id": "b3VxRSJNfaJE",
        "outputId": "c6b00482-55a5-4397-e704-fd8b26d2a7ac",
        "colab": {
          "base_uri": "https://localhost:8080/"
        }
      },
      "outputs": [
        {
          "output_type": "stream",
          "name": "stderr",
          "text": [
            "/usr/local/lib/python3.9/dist-packages/ipykernel/ipkernel.py:283: DeprecationWarning: `should_run_async` will not call `transform_cell` automatically in the future. Please pass the result to `transformed_cell` argument and any exception that happen during thetransform in `preprocessing_exc_tuple` in IPython 7.17 and above.\n",
            "  and should_run_async(code)\n"
          ]
        }
      ],
      "source": [
        "env = Comp()"
      ]
    },
    {
      "cell_type": "code",
      "execution_count": 4,
      "metadata": {
        "id": "syy3P_iEfaJG",
        "outputId": "4cfd6c81-0bdb-4bf6-c51d-899ad044ff1d",
        "colab": {
          "base_uri": "https://localhost:8080/",
          "height": 448
        }
      },
      "outputs": [
        {
          "output_type": "stream",
          "name": "stdout",
          "text": [
            "Score [player1, player2]:[-240 -263]\n"
          ]
        },
        {
          "output_type": "display_data",
          "data": {
            "text/plain": [
              "<Figure size 640x480 with 1 Axes>"
            ],
            "image/png": "[encoded data removed]"
          },
          "metadata": {}
        }
      ],
      "source": [
        "# both always cooperate\n",
        "episodes = 1000\n",
        "\n",
        "episode_rews = []\n",
        "\n",
        "for _ in range(episodes):\n",
        "\n",
        "    obs = env.reset()\n",
        "    while env.agents:\n",
        "        acts = {\n",
        "            \"player1\": 1,\n",
        "            \"player2\": 1\n",
        "        }\n",
        "\n",
        "        obs, rews, terms, truncs, infos = env.step(acts)\n",
        "        # print(obs, rews)\n",
        "\n",
        "    episode_rews.append([rews['player1'], rews['player2']])\n",
        "\n",
        "arr = np.array(episode_rews)\n",
        "print(f\"Score [player1, player2]:{np.sum(arr, axis=0)}\")\n",
        "plt.plot(arr.cumsum(axis=0))\n",
        "plt.show()"
      ]
    },
    {
      "cell_type": "code",
      "execution_count": 5,
      "metadata": {
        "id": "dQSpD90AfaJH",
        "outputId": "d1e90ab8-7f61-4a36-84e6-4c343a699840",
        "colab": {
          "base_uri": "https://localhost:8080/",
          "height": 448
        }
      },
      "outputs": [
        {
          "output_type": "stream",
          "name": "stdout",
          "text": [
            "Score [player1, player2]:[-664 -668]\n"
          ]
        },
        {
          "output_type": "display_data",
          "data": {
            "text/plain": [
              "<Figure size 640x480 with 1 Axes>"
            ],
            "image/png": "[encoded data removed]"
          },
          "metadata": {}
        }
      ],
      "source": [
        "# both always defect\n",
        "episodes = 1000\n",
        "\n",
        "episode_rews = []\n",
        "\n",
        "for _ in range(episodes):\n",
        "\n",
        "    obs = env.reset()\n",
        "    while env.agents:\n",
        "        acts = {\n",
        "            \"player1\": 0,\n",
        "            \"player2\": 0\n",
        "        }\n",
        "\n",
        "        obs, rews, terms, truncs, infos = env.step(acts)\n",
        "        # print(obs, rews)\n",
        "\n",
        "    episode_rews.append([rews['player1'], rews['player2']])\n",
        "\n",
        "arr = np.array(episode_rews)\n",
        "print(f\"Score [player1, player2]:{np.sum(arr, axis=0)}\")\n",
        "plt.plot(arr.cumsum(axis=0))\n",
        "plt.show()"
      ]
    },
    {
      "cell_type": "code",
      "execution_count": 6,
      "metadata": {
        "id": "ehhaFNJSfaJI",
        "outputId": "01b959d5-6228-4c4a-ae5d-f28ad1665287",
        "colab": {
          "base_uri": "https://localhost:8080/",
          "height": 448
        }
      },
      "outputs": [
        {
          "output_type": "stream",
          "name": "stdout",
          "text": [
            "Score [player1, player2]:[-104 -684]\n"
          ]
        },
        {
          "output_type": "display_data",
          "data": {
            "text/plain": [
              "<Figure size 640x480 with 1 Axes>"
            ],
            "image/png": "[encoded data removed]"
          },
          "metadata": {}
        }
      ],
      "source": [
        "# player1 defects, player2 cooperates\n",
        "episodes = 1000\n",
        "\n",
        "episode_rews = []\n",
        "\n",
        "for _ in range(episodes):\n",
        "\n",
        "    obs = env.reset()\n",
        "    while env.agents:\n",
        "        acts = {\n",
        "            \"player1\": 0,\n",
        "            \"player2\": 1\n",
        "        }\n",
        "\n",
        "        obs, rews, terms, truncs, infos = env.step(acts)\n",
        "        # print(obs, rews)\n",
        "\n",
        "    episode_rews.append([rews['player1'], rews['player2']])\n",
        "\n",
        "arr = np.array(episode_rews)\n",
        "print(f\"Score [player1, player2]:{np.sum(arr, axis=0)}\")\n",
        "plt.plot(arr.cumsum(axis=0))\n",
        "plt.show()"
      ]
    },
    {
      "cell_type": "code",
      "execution_count": 7,
      "metadata": {
        "id": "jR-e5yN4faJJ",
        "outputId": "7dda8e64-2a3c-4d14-cc26-102e20b2ee34",
        "colab": {
          "base_uri": "https://localhost:8080/",
          "height": 448
        }
      },
      "outputs": [
        {
          "output_type": "stream",
          "name": "stdout",
          "text": [
            "Score [player1, player2]:[-714  -92]\n"
          ]
        },
        {
          "output_type": "display_data",
          "data": {
            "text/plain": [
              "<Figure size 640x480 with 1 Axes>"
            ],
            "image/png": "[encoded data removed]"
          },
          "metadata": {}
        }
      ],
      "source": [
        "# player1 cooperates, player2 defects\n",
        "episodes = 1000\n",
        "\n",
        "episode_rews = []\n",
        "\n",
        "for _ in range(episodes):\n",
        "\n",
        "    obs = env.reset()\n",
        "    while env.agents:\n",
        "        acts = {\n",
        "            \"player1\": 1,\n",
        "            \"player2\": 0\n",
        "        }\n",
        "\n",
        "        obs, rews, terms, truncs, infos = env.step(acts)\n",
        "        # print(obs, rews)\n",
        "\n",
        "    episode_rews.append([rews['player1'], rews['player2']])\n",
        "\n",
        "arr = np.array(episode_rews)\n",
        "print(f\"Score [player1, player2]:{np.sum(arr, axis=0)}\")\n",
        "plt.plot(arr.cumsum(axis=0))\n",
        "plt.show()"
      ]
    },
    {
      "cell_type": "code",
      "source": [
        "## agent that always forages\n",
        "class AlwaysForage(BasePolicy):\n",
        "    def forward(self, batch, state = None):\n",
        "        mask = batch.obs.mask\n",
        "        logits = np.zeros(mask.shape)\n",
        "        logits[:, 1] = 1\n",
        "        logits[~mask] = -np.inf\n",
        "        return Batch(act=logits.argmax(axis=-1))\n",
        "\n",
        "    def learn(self, batch):\n",
        "        return {}\n",
        "\n",
        "## agent that always attacks\n",
        "class AlwaysAttack(BasePolicy):\n",
        "    def forward(self, batch, state = None):\n",
        "        mask = batch.obs.mask\n",
        "        logits = np.zeros(mask.shape)\n",
        "        logits[:, 0] = 1\n",
        "        logits[~mask] = -np.inf\n",
        "        return Batch(act=logits.argmax(axis=-1))\n",
        "\n",
        "    def learn(self, batch):\n",
        "        return {}\n",
        "\n",
        "## agent that waits for low health to forage\n",
        "class HailMary(BasePolicy):\n",
        "    def forward(self, batch, state = None):\n",
        "        mask = batch.obs.mask\n",
        "        logits = np.zeros(mask.shape)\n",
        "        obs = batch.obs.obs\n",
        "\n",
        "        for i in range(mask.shape[0]):\n",
        "            if obs[i, :, 1] <= 1:\n",
        "                logits[i, 0] = 1\n",
        "            else:\n",
        "                logits[i, 1] = 1\n",
        "        logits[~mask] = -np.inf\n",
        "        return Batch(act=logits.argmax(axis=-1))\n",
        "\n",
        "    def learn(self, batch):\n",
        "        return {}\n",
        "\n",
        "## random agent\n",
        "class RandomAgent(BasePolicy):\n",
        "    def forward(self, batch, state = None):\n",
        "        mask = batch.obs.mask\n",
        "        logits = np.zeros(mask.shape)\n",
        "        logits[:, np.random.choice([0, 1])] = 1\n",
        "        logits[~mask] = -np.inf\n",
        "        return Batch(act=logits.argmax(axis=-1))\n",
        "\n",
        "    def learn(self, batch):\n",
        "        return {}"
      ],
      "metadata": {
        "id": "kDkeHw1eUtuA"
      },
      "execution_count": 53,
      "outputs": []
    },
    {
      "cell_type": "code",
      "source": [
        "# Step 2: Wrap the environment for Tianshou interfacing\n",
        "def _get_env():\n",
        "    env = Comp()\n",
        "    vec_env = parallel_to_aec(env)\n",
        "    return PettingZooEnv(vec_env)\n",
        "\n",
        "env = Comp()\n",
        "agents =  env.agents[:]\n",
        "\n",
        "# Step 3: Define policies for each agent\n",
        "## learning agent\n",
        "def _get_agent():\n",
        "    vec_env = _get_env()\n",
        "    net = Net(\n",
        "        state_shape=vec_env.observation_space.shape,\n",
        "        action_shape=vec_env.action_space.n,\n",
        "        hidden_sizes=[128, 128],\n",
        "        device=\"cuda\",\n",
        "    ).to(\"cuda\")\n",
        "    optim = Adam(net.parameters(), lr=1e-4)\n",
        "    return DQNPolicy(\n",
        "        model=net,\n",
        "        optim=optim,\n",
        "        discount_factor=0.9,\n",
        "        estimation_step=3,\n",
        "        target_update_freq=320,\n",
        "    )\n",
        "\n",
        "agent_learn1 = _get_agent()\n",
        "agent_learn2 = _get_agent()\n",
        "\n",
        "policy = MultiAgentPolicyManager([HailMary(), agent_learn1],  _get_env())\n",
        "\n",
        "train_envs = DummyVectorEnv([_get_env for _ in range(5)])\n",
        "test_envs = DummyVectorEnv([_get_env for _ in range(2)])\n",
        "\n",
        "# Step 4: Collector setup\n",
        "train_collector = Collector(\n",
        "    policy,\n",
        "    train_envs,\n",
        "    VectorReplayBuffer(20_000, len(train_envs)),\n",
        "    exploration_noise=True,\n",
        ")\n",
        "test_collector = Collector(policy, test_envs, exploration_noise=True)\n",
        "\n",
        "train_collector.collect(n_step=50)\n",
        "\n",
        "def save_best_fn(policy):\n",
        "    model_save_path = os.path.join(\"log\", \"comp\", \"dqn\", \"policy.pth\")\n",
        "    os.makedirs(os.path.join(\"log\", \"comp\", \"dqn\"), exist_ok=True)\n",
        "    torch.save(policy.policies[agents[1]].state_dict(), model_save_path)\n",
        "\n",
        "def stop_fn(mean_rewards):\n",
        "    return mean_rewards >= 0.6\n",
        "\n",
        "def train_fn(epoch, env_step):\n",
        "    policy.policies[agents[1]].set_eps(0.1)\n",
        "\n",
        "def test_fn(epoch, env_step):\n",
        "    policy.policies[agents[1]].set_eps(0.05)\n",
        "\n",
        "def reward_metric(rews):\n",
        "    return rews[:, 1]\n",
        "\n",
        "log_path = os.path.join(\"log\", \"comp\", \"dqn\")\n",
        "writer = SummaryWriter(log_path)\n",
        "logger = TensorboardLogger(writer)"
      ],
      "metadata": {
        "id": "G1Bvox2Bb90-"
      },
      "execution_count": 59,
      "outputs": []
    },
    {
      "cell_type": "code",
      "source": [
        "# Step 5: Run trainer\n",
        "result = offpolicy_trainer(\n",
        "    policy=policy,\n",
        "    train_collector=train_collector,\n",
        "    test_collector=test_collector,\n",
        "    max_epoch=20,\n",
        "    step_per_epoch=1000,\n",
        "    step_per_collect=50,\n",
        "    episode_per_test=100,\n",
        "    batch_size=64,\n",
        "    train_fn=train_fn,\n",
        "    test_fn=test_fn,\n",
        "    stop_fn=stop_fn,\n",
        "    save_best_fn=save_best_fn,\n",
        "    update_per_step=0.1,\n",
        "    test_in_train=False,\n",
        "    reward_metric=reward_metric,\n",
        "    logger=logger\n",
        ")\n",
        "result"
      ],
      "metadata": {
        "colab": {
          "base_uri": "https://localhost:8080/"
        },
        "id": "mXENGOUHOTxa",
        "outputId": "8e9dd102-471b-4901-cd07-1d063fc93d49"
      },
      "execution_count": 64,
      "outputs": [
        {
          "output_type": "stream",
          "name": "stderr",
          "text": [
            "Epoch #1: 1001it [00:00, 1182.68it/s, env_step=1000, len=6, n/ep=5, n/st=50, player2/loss=0.133, rew=-0.40]                          \n"
          ]
        },
        {
          "output_type": "stream",
          "name": "stdout",
          "text": [
            "Epoch #1: test_reward: -0.370000 ± 0.482804, best_reward: -0.280000 ± 0.448999 in #0\n"
          ]
        },
        {
          "output_type": "stream",
          "name": "stderr",
          "text": [
            "Epoch #2: 1001it [00:00, 1173.86it/s, env_step=2000, len=6, n/ep=10, n/st=50, player2/loss=0.075, rew=-0.60]                          \n"
          ]
        },
        {
          "output_type": "stream",
          "name": "stdout",
          "text": [
            "Epoch #2: test_reward: -0.420000 ± 0.493559, best_reward: -0.280000 ± 0.448999 in #0\n"
          ]
        },
        {
          "output_type": "stream",
          "name": "stderr",
          "text": [
            "Epoch #3: 1001it [00:00, 1155.61it/s, env_step=3000, len=6, n/ep=10, n/st=50, player2/loss=0.088, rew=-0.10]                          \n"
          ]
        },
        {
          "output_type": "stream",
          "name": "stdout",
          "text": [
            "Epoch #3: test_reward: -0.340000 ± 0.473709, best_reward: -0.280000 ± 0.448999 in #0\n"
          ]
        },
        {
          "output_type": "stream",
          "name": "stderr",
          "text": [
            "Epoch #4: 1001it [00:00, 1179.39it/s, env_step=4000, len=6, n/ep=5, n/st=50, player2/loss=0.074, rew=-0.20]                          \n"
          ]
        },
        {
          "output_type": "stream",
          "name": "stdout",
          "text": [
            "Epoch #4: test_reward: -0.370000 ± 0.482804, best_reward: -0.280000 ± 0.448999 in #0\n"
          ]
        },
        {
          "output_type": "stream",
          "name": "stderr",
          "text": [
            "Epoch #5: 1001it [00:00, 1201.60it/s, env_step=5000, len=6, n/ep=10, n/st=50, player2/loss=0.057, rew=-0.50]                          \n"
          ]
        },
        {
          "output_type": "stream",
          "name": "stdout",
          "text": [
            "Epoch #5: test_reward: -0.300000 ± 0.458258, best_reward: -0.280000 ± 0.448999 in #0\n"
          ]
        },
        {
          "output_type": "stream",
          "name": "stderr",
          "text": [
            "Epoch #6: 1001it [00:01, 863.10it/s, env_step=6000, len=6, n/ep=10, n/st=50, player2/loss=0.100, rew=-0.30]                          \n"
          ]
        },
        {
          "output_type": "stream",
          "name": "stdout",
          "text": [
            "Epoch #6: test_reward: -0.230000 ± 0.420833, best_reward: -0.230000 ± 0.420833 in #6\n"
          ]
        },
        {
          "output_type": "stream",
          "name": "stderr",
          "text": [
            "Epoch #7: 1001it [00:01, 834.93it/s, env_step=7000, len=6, n/ep=5, n/st=50, player2/loss=0.133, rew=0.00]                          \n"
          ]
        },
        {
          "output_type": "stream",
          "name": "stdout",
          "text": [
            "Epoch #7: test_reward: -0.280000 ± 0.448999, best_reward: -0.230000 ± 0.420833 in #6\n"
          ]
        },
        {
          "output_type": "stream",
          "name": "stderr",
          "text": [
            "Epoch #8: 1001it [00:00, 1202.23it/s, env_step=8000, len=6, n/ep=10, n/st=50, player2/loss=0.106, rew=-0.30]                          \n"
          ]
        },
        {
          "output_type": "stream",
          "name": "stdout",
          "text": [
            "Epoch #8: test_reward: -0.300000 ± 0.458258, best_reward: -0.230000 ± 0.420833 in #6\n"
          ]
        },
        {
          "output_type": "stream",
          "name": "stderr",
          "text": [
            "Epoch #9: 1001it [00:00, 1166.54it/s, env_step=9000, len=6, n/ep=10, n/st=50, player2/loss=0.142, rew=-0.10]                          \n"
          ]
        },
        {
          "output_type": "stream",
          "name": "stdout",
          "text": [
            "Epoch #9: test_reward: -0.350000 ± 0.476970, best_reward: -0.230000 ± 0.420833 in #6\n"
          ]
        },
        {
          "output_type": "stream",
          "name": "stderr",
          "text": [
            "Epoch #10: 1001it [00:00, 1147.87it/s, env_step=10000, len=6, n/ep=5, n/st=50, player2/loss=0.216, rew=-0.40]                          \n"
          ]
        },
        {
          "output_type": "stream",
          "name": "stdout",
          "text": [
            "Epoch #10: test_reward: -0.290000 ± 0.453762, best_reward: -0.230000 ± 0.420833 in #6\n"
          ]
        },
        {
          "output_type": "stream",
          "name": "stderr",
          "text": [
            "Epoch #11: 1001it [00:00, 1145.51it/s, env_step=11000, len=6, n/ep=10, n/st=50, player2/loss=0.209, rew=-0.30]                          \n"
          ]
        },
        {
          "output_type": "stream",
          "name": "stdout",
          "text": [
            "Epoch #11: test_reward: -0.340000 ± 0.473709, best_reward: -0.230000 ± 0.420833 in #6\n"
          ]
        },
        {
          "output_type": "stream",
          "name": "stderr",
          "text": [
            "Epoch #12: 1001it [00:00, 1181.08it/s, env_step=12000, len=6, n/ep=10, n/st=50, player2/loss=0.195, rew=0.00]                          \n"
          ]
        },
        {
          "output_type": "stream",
          "name": "stdout",
          "text": [
            "Epoch #12: test_reward: -0.310000 ± 0.462493, best_reward: -0.230000 ± 0.420833 in #6\n"
          ]
        },
        {
          "output_type": "stream",
          "name": "stderr",
          "text": [
            "Epoch #13: 1001it [00:00, 1156.25it/s, env_step=13000, len=6, n/ep=5, n/st=50, player2/loss=0.341, rew=-0.20]                          \n"
          ]
        },
        {
          "output_type": "stream",
          "name": "stdout",
          "text": [
            "Epoch #13: test_reward: -0.340000 ± 0.473709, best_reward: -0.230000 ± 0.420833 in #6\n"
          ]
        },
        {
          "output_type": "stream",
          "name": "stderr",
          "text": [
            "Epoch #14: 1001it [00:00, 1162.01it/s, env_step=14000, len=6, n/ep=10, n/st=50, player2/loss=0.338, rew=-0.50]                          \n"
          ]
        },
        {
          "output_type": "stream",
          "name": "stdout",
          "text": [
            "Epoch #14: test_reward: -0.310000 ± 0.462493, best_reward: -0.230000 ± 0.420833 in #6\n"
          ]
        },
        {
          "output_type": "stream",
          "name": "stderr",
          "text": [
            "Epoch #15: 1001it [00:00, 1183.70it/s, env_step=15000, len=6, n/ep=10, n/st=50, player2/loss=0.314, rew=-0.10]                          \n"
          ]
        },
        {
          "output_type": "stream",
          "name": "stdout",
          "text": [
            "Epoch #15: test_reward: -0.280000 ± 0.448999, best_reward: -0.230000 ± 0.420833 in #6\n"
          ]
        },
        {
          "output_type": "stream",
          "name": "stderr",
          "text": [
            "Epoch #16: 1001it [00:01, 867.40it/s, env_step=16000, len=6, n/ep=5, n/st=50, player2/loss=0.467, rew=-0.20]                          \n"
          ]
        },
        {
          "output_type": "stream",
          "name": "stdout",
          "text": [
            "Epoch #16: test_reward: -0.210000 ± 0.407308, best_reward: -0.210000 ± 0.407308 in #16\n"
          ]
        },
        {
          "output_type": "stream",
          "name": "stderr",
          "text": [
            "Epoch #17: 1001it [00:01, 837.26it/s, env_step=17000, len=6, n/ep=10, n/st=50, player2/loss=0.466, rew=-0.50]                          \n"
          ]
        },
        {
          "output_type": "stream",
          "name": "stdout",
          "text": [
            "Epoch #17: test_reward: -0.270000 ± 0.443959, best_reward: -0.210000 ± 0.407308 in #16\n"
          ]
        },
        {
          "output_type": "stream",
          "name": "stderr",
          "text": [
            "Epoch #18: 1001it [00:00, 1168.28it/s, env_step=18000, len=6, n/ep=10, n/st=50, player2/loss=0.490, rew=-0.10]                          \n"
          ]
        },
        {
          "output_type": "stream",
          "name": "stdout",
          "text": [
            "Epoch #18: test_reward: -0.220000 ± 0.414246, best_reward: -0.210000 ± 0.407308 in #16\n"
          ]
        },
        {
          "output_type": "stream",
          "name": "stderr",
          "text": [
            "Epoch #19: 1001it [00:00, 1149.71it/s, env_step=19000, len=6, n/ep=5, n/st=50, player2/loss=0.600, rew=0.00]                          \n"
          ]
        },
        {
          "output_type": "stream",
          "name": "stdout",
          "text": [
            "Epoch #19: test_reward: -0.220000 ± 0.414246, best_reward: -0.210000 ± 0.407308 in #16\n"
          ]
        },
        {
          "output_type": "stream",
          "name": "stderr",
          "text": [
            "Epoch #20: 1001it [00:00, 1175.55it/s, env_step=20000, len=6, n/ep=10, n/st=50, player2/loss=0.570, rew=-0.20]                          \n"
          ]
        },
        {
          "output_type": "stream",
          "name": "stdout",
          "text": [
            "Epoch #20: test_reward: -0.170000 ± 0.375633, best_reward: -0.170000 ± 0.375633 in #20\n"
          ]
        },
        {
          "output_type": "execute_result",
          "data": {
            "text/plain": [
              "{'duration': '26.50s',\n",
              " 'train_time/model': '11.25s',\n",
              " 'test_step': 12600,\n",
              " 'test_episode': 2100,\n",
              " 'test_time': '7.87s',\n",
              " 'test_speed': '1600.89 step/s',\n",
              " 'best_reward': -0.17,\n",
              " 'best_result': '-0.17 ± 0.38',\n",
              " 'train_step': 20000,\n",
              " 'train_episode': 3335,\n",
              " 'train_time/collector': '7.38s',\n",
              " 'train_speed': '1073.75 step/s'}"
            ]
          },
          "metadata": {},
          "execution_count": 64
        }
      ]
    },
    {
      "cell_type": "code",
      "source": [
        "model_save_path = os.path.join(\"log\", \"comp\", \"dqn\", \"policy.pth\")\n",
        "policy.policies[agents[1]].load_state_dict(torch.load(model_save_path))"
      ],
      "metadata": {
        "id": "rrMYaEPVMH5j",
        "outputId": "7f7bab12-e8b6-41d4-f192-59c4676af376",
        "colab": {
          "base_uri": "https://localhost:8080/"
        }
      },
      "execution_count": 65,
      "outputs": [
        {
          "output_type": "execute_result",
          "data": {
            "text/plain": [
              "<All keys matched successfully>"
            ]
          },
          "metadata": {},
          "execution_count": 65
        }
      ]
    },
    {
      "cell_type": "code",
      "source": [
        "result = test_collector.collect(n_step=64*100)\n",
        "arr = result[\"rews\"]\n",
        "print(f\"Score [player1, player2]:{np.sum(arr, axis=0)}\")\n",
        "plt.plot(arr.cumsum(axis=0))\n",
        "plt.legend((\"player1\", \"player2\"))\n",
        "plt.show()"
      ],
      "metadata": {
        "id": "W78pPXynoazc",
        "outputId": "16be8955-380c-494b-f9af-f8c065a51eee",
        "colab": {
          "base_uri": "https://localhost:8080/",
          "height": 448
        }
      },
      "execution_count": 66,
      "outputs": [
        {
          "output_type": "stream",
          "name": "stdout",
          "text": [
            "Score [player1, player2]:[-713. -226.]\n"
          ]
        },
        {
          "output_type": "display_data",
          "data": {
            "text/plain": [
              "<Figure size 640x480 with 1 Axes>"
            ],
            "image/png": "[encoded data removed]"
          },
          "metadata": {}
        }
      ]
    },
    {
      "cell_type": "code",
      "source": [
        "obs = []\n",
        "\n",
        "for days_left in range(1, 3):\n",
        "    for player1_life_points in range(4):\n",
        "        for player2_life_points in range(4):\n",
        "            obs.append({\n",
        "                'agent_id': 'player1',\n",
        "                'obs': np.array([[days_left, player1_life_points, player2_life_points, 0]], dtype='float32'),\n",
        "                'mask': [True, True, False]\n",
        "            })\n",
        "\n",
        "obs = tuple(obs)\n",
        "\n",
        "acts = policy.policies[agents[1]](Batch(obs=obs, info={})).act\n",
        "acts.reshape((2, 4, 4))"
      ],
      "metadata": {
        "id": "YzhusJZrEBmk",
        "outputId": "3084c0fe-a906-4b33-9ca7-313236c36b6f",
        "colab": {
          "base_uri": "https://localhost:8080/"
        }
      },
      "execution_count": 67,
      "outputs": [
        {
          "output_type": "execute_result",
          "data": {
            "text/plain": [
              "array([[[1, 1, 1, 0],\n",
              "        [1, 0, 0, 0],\n",
              "        [0, 0, 0, 0],\n",
              "        [0, 0, 0, 0]],\n",
              "\n",
              "       [[1, 1, 1, 1],\n",
              "        [1, 1, 1, 0],\n",
              "        [0, 0, 0, 0],\n",
              "        [0, 0, 0, 0]]])"
            ]
          },
          "metadata": {},
          "execution_count": 67
        }
      ]
    },
    {
      "cell_type": "code",
      "source": [],
      "metadata": {
        "id": "mlrv5y7yYYW3"
      },
      "execution_count": null,
      "outputs": []
    }
  ],
  "metadata": {
    "kernelspec": {
      "display_name": "marl",
      "language": "python",
      "name": "python3"
    },
    "language_info": {
      "codemirror_mode": {
        "name": "ipython",
        "version": 3
      },
      "file_extension": ".py",
      "mimetype": "text/x-python",
      "name": "python",
      "nbconvert_exporter": "python",
      "pygments_lexer": "ipython3",
      "version": "3.9.16"
    },
    "orig_nbformat": 4,
    "vscode": {
      "interpreter": {
        "hash": "c60f8f14158b8cc4bcc21437ba22a3da12044864f85c9353b976d7b31c7c9e33"
      }
    },
    "colab": {
      "provenance": [],
      "include_colab_link": true
    },
    "accelerator": "GPU",
    "gpuClass": "standard"
  },
  "nbformat": 4,
  "nbformat_minor": 0
}